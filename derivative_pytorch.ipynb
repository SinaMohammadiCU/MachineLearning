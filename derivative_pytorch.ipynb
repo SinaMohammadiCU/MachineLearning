{
 "cells": [
  {
   "cell_type": "code",
   "execution_count": 2,
   "id": "c54bbd27",
   "metadata": {},
   "outputs": [],
   "source": [
    "import matplotlib.pyplot as plt\n",
    "import torch"
   ]
  },
  {
   "cell_type": "markdown",
   "id": "4021f90b",
   "metadata": {},
   "source": [
    "#### Example #1"
   ]
  },
  {
   "cell_type": "code",
   "execution_count": 8,
   "id": "95663aaa",
   "metadata": {},
   "outputs": [
    {
     "name": "stdout",
     "output_type": "stream",
     "text": [
      "tensor(3., requires_grad=True)\n",
      "Value of function at x=3 is: tensor(12., grad_fn=<AddBackward0>)\n",
      "Derivative of Above equation is: tensor(7.)\n"
     ]
    }
   ],
   "source": [
    "# Declaring our 0D tensor x ; It takes only float\n",
    "x = torch.tensor(3.0 , requires_grad= True)\n",
    "print(x)\n",
    "\n",
    "\n",
    "#Defining Function that we want to differentiate\n",
    "y= x+x**2\n",
    "\n",
    "\n",
    "# applying .bacward on y and forming acyclic graph storing the computation history, and evaluate the result with .grad\n",
    "print(\"Value of function at x=3 is:\",y)\n",
    "y.backward()\n",
    "print(\"Derivative of Above equation is:\",x.grad)"
   ]
  },
  {
   "cell_type": "markdown",
   "id": "e8371618",
   "metadata": {},
   "source": [
    "#### Example #2"
   ]
  },
  {
   "cell_type": "code",
   "execution_count": 9,
   "id": "bd620abe",
   "metadata": {},
   "outputs": [
    {
     "name": "stdout",
     "output_type": "stream",
     "text": [
      "Result of the equation is:  tensor(20., grad_fn=<AddBackward0>)\n",
      "Derivative of the equation at x = 3 is:  tensor(8.)\n"
     ]
    }
   ],
   "source": [
    "x = torch.tensor(3.0, requires_grad = True)\n",
    "y = x ** 2 + 2 * x + 5\n",
    "print(\"Result of the equation is: \", y)\n",
    "y.backward()\n",
    "print(\"Derivative of the equation at x = 3 is: \", x.grad)"
   ]
  },
  {
   "cell_type": "markdown",
   "id": "7a30bc12",
   "metadata": {},
   "source": [
    "#### Example #3 Partial Derivatives"
   ]
  },
  {
   "cell_type": "code",
   "execution_count": 10,
   "id": "b9b1397a",
   "metadata": {},
   "outputs": [
    {
     "name": "stdout",
     "output_type": "stream",
     "text": [
      "tensor(3., requires_grad=True)\n",
      "tensor(4., requires_grad=True)\n",
      "tensor(104., grad_fn=<AddBackward0>)\n",
      "Partial derivative with respect to u:  tensor(15.)\n",
      "Partial derivative with respect to u:  tensor(55.)\n"
     ]
    }
   ],
   "source": [
    "u = torch.tensor(3., requires_grad=True)\n",
    "v = torch.tensor(4., requires_grad=True)\n",
    "\n",
    "f = u**2 + v**3 + 2*u*v + u + v\n",
    "\n",
    "print(u)\n",
    "print(v)\n",
    "print(f)\n",
    "\n",
    "f.backward()\n",
    "print(\"Partial derivative with respect to u: \", u.grad)\n",
    "print(\"Partial derivative with respect to u: \", v.grad)"
   ]
  },
  {
   "cell_type": "markdown",
   "id": "159230fd",
   "metadata": {},
   "source": [
    "#### Example #4 Derivative of function in a domain of numbers"
   ]
  },
  {
   "cell_type": "code",
   "execution_count": 26,
   "id": "6930c0f8",
   "metadata": {},
   "outputs": [
    {
     "data": {
      "image/png": "[encoded data removed]",
      "text/plain": [
       "<Figure size 432x288 with 1 Axes>"
      ]
     },
     "metadata": {
      "needs_background": "light"
     },
     "output_type": "display_data"
    }
   ],
   "source": [
    "# compute the derivative of the function with multiple values\n",
    "x = torch.linspace(-10, 10, 100, requires_grad = True)\n",
    "Y = 10*x ** 3\n",
    "y = torch.sum(Y)\n",
    "y.backward()\n",
    "\n",
    "# ploting the function and derivative\n",
    "function_line, = plt.plot(x.detach().numpy(), Y.detach().numpy(), label = 'Main Function')\n",
    "function_line.set_color(\"red\")\n",
    "derivative_line, = plt.plot(x.detach().numpy(), x.grad.detach().numpy(), label = 'Derivative of function')\n",
    "derivative_line.set_color(\"green\")\n",
    "plt.xlabel('x')\n",
    "plt.legend()\n",
    "plt.show()\n"
   ]
  },
  {
   "cell_type": "code",
   "execution_count": null,
   "id": "ab60496e",
   "metadata": {},
   "outputs": [],
   "source": []
  }
 ],
 "metadata": {
  "kernelspec": {
   "display_name": "Python 3 (ipykernel)",
   "language": "python",
   "name": "python3"
  },
  "language_info": {
   "codemirror_mode": {
    "name": "ipython",
    "version": 3
   },
   "file_extension": ".py",
   "mimetype": "text/x-python",
   "name": "python",
   "nbconvert_exporter": "python",
   "pygments_lexer": "ipython3",
   "version": "3.9.7"
  }
 },
 "nbformat": 4,
 "nbformat_minor": 5
}
